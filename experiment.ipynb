{
 "cells": [
  {
   "cell_type": "code",
   "execution_count": 5,
   "metadata": {},
   "outputs": [],
   "source": [
    "import os\n",
    "from dotenv import load_dotenv\n",
    "import os\n",
    "from langchain_community.retrievers import PineconeHybridSearchRetriever"
   ]
  },
  {
   "cell_type": "code",
   "execution_count": 6,
   "metadata": {},
   "outputs": [],
   "source": [
    "load_dotenv()\n",
    "PINECONE_API_KEY=os.getenv('PINECONE_API_KEY')"
   ]
  },
  {
   "cell_type": "code",
   "execution_count": 16,
   "metadata": {},
   "outputs": [
    {
     "name": "stdout",
     "output_type": "stream",
     "text": [
      "Index 'hybrid-search-pinecode-langchain' is ready.\n"
     ]
    }
   ],
   "source": [
    "from pinecone import Pinecone, ServerlessSpec\n",
    "from dotenv import load_dotenv\n",
    "import os\n",
    "\n",
    "# Load environment variables from .env file\n",
    "load_dotenv()\n",
    "\n",
    "# Retrieve the Pinecone API key from environment variables\n",
    "PINECONE_API_KEY = os.getenv(\"PINECONE_API_KEY\")\n",
    "\n",
    "# Define the index name (use only lowercase letters, numbers, and hyphens)\n",
    "index_name = \"hybrid-search-pinecode-langchain\"\n",
    "\n",
    "# Initialize Pinecone with the API key\n",
    "pc = Pinecone(api_key=PINECONE_API_KEY)\n",
    "\n",
    "# Check if the index already exists\n",
    "if index_name not in [index.name for index in pc.list_indexes()]:\n",
    "    # Create the index if it does not exist\n",
    "    pc.create_index(\n",
    "        name=index_name,\n",
    "        dimension=384,  # Dimension of the dense vector (using Hugging Face embeddings)\n",
    "        metric=\"dotproduct\",  # Sparse values supported only for dotproduct\n",
    "        spec=ServerlessSpec(cloud='aws', region=\"us-east-1\"),\n",
    "    )\n",
    "\n",
    "print(f\"Index '{index_name}' is ready.\")"
   ]
  },
  {
   "cell_type": "code",
   "execution_count": 17,
   "metadata": {},
   "outputs": [],
   "source": [
    "index=pc.Index(index_name)"
   ]
  },
  {
   "cell_type": "code",
   "execution_count": 18,
   "metadata": {},
   "outputs": [
    {
     "data": {
      "text/plain": [
       "<pinecone.data.index.Index at 0x234e4e45f50>"
      ]
     },
     "execution_count": 18,
     "metadata": {},
     "output_type": "execute_result"
    }
   ],
   "source": [
    "index"
   ]
  },
  {
   "cell_type": "code",
   "execution_count": 25,
   "metadata": {},
   "outputs": [
    {
     "name": "stderr",
     "output_type": "stream",
     "text": [
      "g:\\HybridSearchRAGWithLangchain\\venv\\Lib\\site-packages\\transformers\\tokenization_utils_base.py:1601: FutureWarning: `clean_up_tokenization_spaces` was not set. It will be set to `True` by default. This behavior will be depracted in transformers v4.45, and will be then set to `False` by default. For more details check this issue: https://github.com/huggingface/transformers/issues/31884\n",
      "  warnings.warn(\n"
     ]
    },
    {
     "name": "stdout",
     "output_type": "stream",
     "text": [
      "[-4.445405920705525e-06, 0.14679904282093048, 0.05518879368901253, 0.017703330144286156, 0.042779624462127686, 0.07864180207252502, 0.05290604382753372, 0.016132432967424393, 0.042034972459077835, 0.016652770340442657, 0.051313821226358414, -0.06861812621355057, -0.011278809048235416, -0.024253731593489647, 0.12017810344696045, 0.009854670614004135, -0.014674332924187183, -0.03764597699046135, -0.032778043299913406, 0.01442735642194748, 0.08596458286046982, 0.07534053176641464, 0.04968412593007088, -0.02382204681634903, -0.02630639262497425, 0.0012724777916446328, 0.025696588680148125, -0.012068831361830235, 0.15250274538993835, -0.028572631999850273, -0.0167866051197052, 0.03342984616756439, 0.07145553827285767, 0.027607416734099388, 0.0741976946592331, 0.03960345312952995, -0.006842474453151226, 0.037319473922252655, 0.06753368675708771, -0.010548585094511509, 0.02467515505850315, -0.015932446345686913, 0.00819754134863615, 0.015393165871500969, -0.004537752363830805, -0.05517854914069176, -0.04646362364292145, 0.030929462984204292, -0.023338863626122475, -0.019823633134365082, -0.15322351455688477, -0.019861986860632896, -0.1016465574502945, -0.031836409121751785, -0.015216249041259289, 0.006703462917357683, -0.04506201669573784, -0.004411996342241764, 0.05073597654700279, -0.012372912839055061, -0.00420158077031374, 0.01830827258527279, -0.0670006200671196, 0.09553803503513336, 0.05029589682817459, -0.016576603055000305, 0.03501109778881073, -0.03285761550068855, -0.05096517875790596, 0.009189150296151638, -0.05573242902755737, 0.028879418969154358, -0.05602531135082245, -0.031867437064647675, -0.11266186088323593, -0.04530571401119232, -0.009326447732746601, -0.07629139721393585, 0.043409354984760284, -0.01319802924990654, -0.04097916930913925, 0.030676521360874176, -0.0013428945094347, 0.0816797986626625, -0.017719481140375137, -0.019988486543297768, 0.036223895847797394, -0.08710350096225739, 0.05699867755174637, -0.004259185865521431, -0.0571085587143898, -0.0564274825155735, 0.019652992486953735, -0.01851283758878708, 0.006381665356457233, 0.05812281742691994, -0.036712486296892166, 0.008829041384160519, 0.1347636580467224, 0.07900218665599823, 0.03505369648337364, 0.037084173411130905, 0.07826041430234909, 0.048072103410959244, -0.11862436681985855, -0.09471046924591064, -0.05879827216267586, -0.013248584233224392, 0.02681954950094223, -0.025218762457370758, -0.08369891345500946, -0.06553522497415543, -0.05057545751333237, -0.05394027754664421, 0.04356135427951813, -0.07286959886550903, -0.04729568958282471, -0.005572928115725517, -0.061331070959568024, 0.07144729793071747, -0.002498413436114788, 0.08552638441324234, -0.05733666568994522, -0.011384141631424427, -0.03980739787220955, -0.09031462669372559, -0.013718563131988049, -4.260661191817954e-33, 0.014090449549257755, -0.056394852697849274, 0.008478972129523754, 0.029364904388785362, -0.025264179334044456, -0.02618076466023922, -0.06313031911849976, 0.027236927300691605, -0.010358844883739948, 0.0015993374399840832, 0.020188037306070328, -0.09166828542947769, 0.01367152575403452, 0.048112962394952774, -0.004207659978419542, -0.010137168690562248, -0.11766871809959412, 0.08574363589286804, -0.007412171456962824, 0.05566922947764397, 0.0026790676638484, 0.05312296003103256, -0.017773780971765518, 0.003339424030855298, -0.03385745361447334, -0.04291911423206329, 0.022929487749934196, -0.005255862604826689, -0.04362761229276657, 0.021394837647676468, 0.020182039588689804, -0.00476909289136529, -0.06585700809955597, -0.039693865925073624, 0.06893252581357956, 0.08781059831380844, 0.034823764115571976, 0.004237097222357988, -0.0038529764860868454, -0.029883164912462234, 0.005244929809123278, 0.014341401867568493, 0.11318410187959671, 0.037431877106428146, 0.056443050503730774, 0.0024432840291410685, 0.005053216591477394, -0.03042476810514927, -0.004528653807938099, 0.023943429812788963, -0.02603195421397686, 0.04671977087855339, -0.011391882784664631, 0.004072214011102915, 0.10004964470863342, 0.09239158779382706, -0.08434615284204483, 0.09617425501346588, -0.023891828954219818, 0.07091198861598969, -0.012436382472515106, 0.018176835030317307, -0.018170807510614395, 0.031222928315401077, -0.007995670661330223, 0.032781559973955154, -0.02771567367017269, -0.0812222808599472, 0.03617244213819504, 0.0336248017847538, -0.008044781163334846, 0.003044605255126953, -0.09463487565517426, 0.028095874935388565, -0.06643475592136383, -0.043737802654504776, -0.016343887895345688, 0.039472028613090515, -0.03571799769997597, 0.0343034528195858, -0.015290417708456516, -0.09196769446134567, 0.032687608152627945, 0.012697362340986729, 0.003781146602705121, -0.01695970818400383, 0.07148406654596329, -0.1360151469707489, 0.030298560857772827, 0.019300447776913643, -0.0012825849698856473, 0.009702839888632298, -0.02679496631026268, -0.06158624589443207, 0.01863514445722103, 1.7457293580738788e-35, -0.006809867452830076, 0.033899713307619095, -0.015310040675103664, 0.10417679697275162, 0.017968948930501938, 0.019824571907520294, -0.01095286849886179, -0.05797334015369415, 0.045166898518800735, 0.08374674618244171, -0.11371739208698273, 0.005533081479370594, 0.05800589919090271, -0.0283619686961174, -0.13108596205711365, 0.0450446754693985, 0.04423751309514046, -0.03753327950835228, -0.012963837943971157, 0.05717391148209572, -0.04963931813836098, 0.1137324795126915, -0.009844506159424782, 0.04592099413275719, 0.018315885215997696, 0.04594232514500618, 0.012674408964812756, -0.04475880041718483, -0.04057619720697403, -0.03210531547665596, 0.014695358462631702, -0.09431331604719162, -0.07233558595180511, 0.005742527078837156, -0.0391259603202343, 0.007085746619850397, 0.11964772641658783, 0.015752775594592094, -0.012293598614633083, 0.010022100992500782, 0.0052404762245714664, 0.007810316979885101, 0.022617971524596214, 0.06819887459278107, -0.001904327655211091, -0.019730009138584137, -0.0011480851098895073, -0.04262830317020416, -0.016426492482423782, -0.011584177613258362, -0.09933052211999893, 0.020003454759716988, -0.04879774525761604, -0.04627297446131706, -0.07173095643520355, -0.00038671595393680036, -0.0052888900972902775, -0.04809438809752464, 0.02904650568962097, -0.01530534215271473, -0.01638035662472248, 0.04021535441279411, -0.021749010309576988, -0.019302332773804665, 0.08237296342849731, -0.07423682510852814, -0.07345440983772278, 0.04575341194868088, -0.0018888632766902447, -0.04682357981801033, 0.024636493995785713, -0.07557886093854904, -0.0687517300248146, -0.020397888496518135, -0.05937550589442253, -0.04732038825750351, 0.02138102985918522, -0.023011714220046997, -0.04594036936759949, -0.03608183190226555, 0.0417768768966198, -0.029506200924515724, -0.042017269879579544, 0.006801909767091274, -0.01720399782061577, -0.018423888832330704, -0.0354195237159729, -0.049843307584524155, -0.01775207184255123, 0.05425802618265152, -0.05979497730731964, -0.09847653657197952, 0.013653415255248547, -0.038984451442956924, 0.01359160989522934, -2.694057599228472e-08, -0.03773320093750954, 0.004743682686239481, -0.002346400171518326, 0.06717488169670105, 0.03416713327169418, 0.04422376677393913, 0.06726662814617157, -0.0035093380138278008, -0.05919625237584114, -0.035078395158052444, 0.07802627235651016, 0.02934158965945244, -0.04186636954545975, -0.003562201512977481, 0.05515088140964508, 0.03691496327519417, -0.03491470590233803, -0.034793611615896225, -0.03936166688799858, -0.025567827746272087, 0.052784357219934464, 0.029322324320673943, -0.06211312487721443, -0.005116984713822603, -0.014684016816318035, 0.11473332345485687, 0.011421646922826767, 0.03613272309303284, -0.07651291787624359, 0.0010542671661823988, 0.010201094672083855, 0.09590339660644531, -0.05418011546134949, -0.04266877472400665, 0.031109707430005074, -0.049173254519701004, -0.03647011145949364, -0.05155441164970398, 0.05804096534848213, -0.05766386166214943, -0.005778491962701082, 0.08638407289981842, -0.030264927074313164, 0.050673823803663254, 0.0302635058760643, 0.003556388895958662, -0.043748535215854645, 0.07353989779949188, -0.008285842835903168, 0.002158398274332285, -0.06595984846353531, -0.024407194927334785, 0.04478177800774574, 0.0024948464706540108, 0.03356517106294632, -0.0005356583278626204, 0.030867230147123337, -0.004586324095726013, -0.043045151978731155, -0.011205234564840794, 0.2042943686246872, 0.09298650920391083, 0.030493037775158882, -0.06599843502044678]\n"
     ]
    }
   ],
   "source": [
    "## Vector embedding And Sparse Metrix\n",
    "from langchain.embeddings import HuggingFaceBgeEmbeddings # This HuggingFaceBgeEmbeddings is used to create dense vector\n",
    "# Initialize the Hugging Face embeddings model\n",
    "model_name = \"all-MiniLM-L6-v2\"\n",
    "embeddings = HuggingFaceBgeEmbeddings(model_name=model_name)\n",
    "# Example: Embed a sample text\n",
    "text = \"This is a sample sentence.\"\n",
    "vector = embeddings.embed_query(text)\n",
    "print(vector)"
   ]
  },
  {
   "cell_type": "code",
   "execution_count": 27,
   "metadata": {},
   "outputs": [
    {
     "data": {
      "text/plain": [
       "384"
      ]
     },
     "execution_count": 27,
     "metadata": {},
     "output_type": "execute_result"
    }
   ],
   "source": [
    "len(vector)"
   ]
  },
  {
   "cell_type": "code",
   "execution_count": 28,
   "metadata": {},
   "outputs": [
    {
     "data": {
      "text/plain": [
       "HuggingFaceBgeEmbeddings(client=SentenceTransformer(\n",
       "  (0): Transformer({'max_seq_length': 256, 'do_lower_case': False}) with Transformer model: BertModel \n",
       "  (1): Pooling({'word_embedding_dimension': 384, 'pooling_mode_cls_token': False, 'pooling_mode_mean_tokens': True, 'pooling_mode_max_tokens': False, 'pooling_mode_mean_sqrt_len_tokens': False, 'pooling_mode_weightedmean_tokens': False, 'pooling_mode_lasttoken': False, 'include_prompt': True})\n",
       "  (2): Normalize()\n",
       "), model_name='all-MiniLM-L6-v2', cache_folder=None, model_kwargs={}, encode_kwargs={}, query_instruction='Represent this question for searching relevant passages: ', embed_instruction='', show_progress=False)"
      ]
     },
     "execution_count": 28,
     "metadata": {},
     "output_type": "execute_result"
    }
   ],
   "source": [
    "embeddings"
   ]
  },
  {
   "cell_type": "markdown",
   "metadata": {},
   "source": [
    "BM25Encoder is responsible for create sparse metrix"
   ]
  },
  {
   "cell_type": "code",
   "execution_count": 30,
   "metadata": {},
   "outputs": [
    {
     "data": {
      "text/plain": [
       "<pinecone_text.sparse.bm25_encoder.BM25Encoder at 0x23483e65650>"
      ]
     },
     "execution_count": 30,
     "metadata": {},
     "output_type": "execute_result"
    }
   ],
   "source": [
    "from pinecone_text.sparse import BM25Encoder #This used internally TF-IDF Encoder\n",
    "bm25ecoder=BM25Encoder().default()\n",
    "bm25ecoder"
   ]
  },
  {
   "cell_type": "code",
   "execution_count": 34,
   "metadata": {},
   "outputs": [
    {
     "name": "stderr",
     "output_type": "stream",
     "text": [
      "100%|██████████| 3/3 [00:00<00:00, 1510.19it/s]\n"
     ]
    }
   ],
   "source": [
    "sentenses=[\n",
    "    \"In 2023 I visited peris\",\n",
    "      \"In 2022 I visited New York\",\n",
    "       \"In 2021 I visited New Orleans\"\n",
    "]\n",
    "# Applying TF-IDF values on these sentences\n",
    "bm25ecoder.fit(sentenses)\n",
    "\n",
    "## Store values to a JSON file\n",
    "bm25ecoder.dump(\"bm25_values.json\")\n",
    "\n",
    "#load to your BM25Encoder object\n",
    "bm25ecoder=BM25Encoder().load(\"bm25_values.json\")"
   ]
  },
  {
   "cell_type": "code",
   "execution_count": 35,
   "metadata": {},
   "outputs": [],
   "source": [
    "retriver=PineconeHybridSearchRetriever(embeddings=embeddings,sparse_encoder=bm25ecoder,index=index)"
   ]
  },
  {
   "cell_type": "code",
   "execution_count": 37,
   "metadata": {},
   "outputs": [
    {
     "name": "stderr",
     "output_type": "stream",
     "text": [
      "100%|██████████| 1/1 [00:03<00:00,  3.17s/it]\n"
     ]
    }
   ],
   "source": [
    "retriver.add_texts(sentenses)"
   ]
  },
  {
   "cell_type": "code",
   "execution_count": 38,
   "metadata": {},
   "outputs": [
    {
     "data": {
      "text/plain": [
       "[Document(page_content='In 2021 I visited New Orleans'),\n",
       " Document(page_content='In 2022 I visited New York'),\n",
       " Document(page_content='In 2023 I visited peris')]"
      ]
     },
     "execution_count": 38,
     "metadata": {},
     "output_type": "execute_result"
    }
   ],
   "source": [
    "retriver.invoke(\"which city did I visit last\")"
   ]
  },
  {
   "cell_type": "code",
   "execution_count": 39,
   "metadata": {},
   "outputs": [
    {
     "data": {
      "text/plain": [
       "[Document(page_content='In 2021 I visited New Orleans'),\n",
       " Document(page_content='In 2022 I visited New York'),\n",
       " Document(page_content='In 2023 I visited peris')]"
      ]
     },
     "execution_count": 39,
     "metadata": {},
     "output_type": "execute_result"
    }
   ],
   "source": [
    "retriver.invoke(\"which city did I visit recent\")"
   ]
  },
  {
   "cell_type": "code",
   "execution_count": 43,
   "metadata": {},
   "outputs": [
    {
     "name": "stdout",
     "output_type": "stream",
     "text": [
      "In 2021 I visited New Orleans\n"
     ]
    }
   ],
   "source": [
    "query = \"most recent city I visited\"\n",
    "results = retriver.get_relevant_documents(query)[:1]\n",
    "\n",
    "for result in results:\n",
    "    print(result.page_content)\n"
   ]
  },
  {
   "cell_type": "code",
   "execution_count": 45,
   "metadata": {},
   "outputs": [
    {
     "name": "stdout",
     "output_type": "stream",
     "text": [
      "In 2023 I visited peris\n"
     ]
    }
   ],
   "source": [
    "import re\n",
    "\n",
    "query = \"which city did I visit last\"\n",
    "results = retriver.get_relevant_documents(query)\n",
    "\n",
    "# Extract years and re-rank by most recent\n",
    "def extract_year(text):\n",
    "    match = re.search(r'\\b(20\\d{2})\\b', text)\n",
    "    return int(match.group(0)) if match else 0\n",
    "\n",
    "sorted_results = sorted(results, key=lambda doc: extract_year(doc.page_content), reverse=True)\n",
    "\n",
    "# Print the most relevant (most recent) result\n",
    "if sorted_results:\n",
    "    print(sorted_results[0].page_content)\n"
   ]
  }
 ],
 "metadata": {
  "kernelspec": {
   "display_name": "venv",
   "language": "python",
   "name": "python3"
  },
  "language_info": {
   "codemirror_mode": {
    "name": "ipython",
    "version": 3
   },
   "file_extension": ".py",
   "mimetype": "text/x-python",
   "name": "python",
   "nbconvert_exporter": "python",
   "pygments_lexer": "ipython3",
   "version": "3.11.8"
  }
 },
 "nbformat": 4,
 "nbformat_minor": 2
}
